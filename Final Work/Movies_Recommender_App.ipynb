{
 "cells": [
  {
   "cell_type": "markdown",
   "metadata": {},
   "source": [
    "# Movies Recommender App"
   ]
  },
  {
   "cell_type": "markdown",
   "metadata": {},
   "source": [
    "This file contains the recommendation system together with the Web App and API codes."
   ]
  },
  {
   "cell_type": "markdown",
   "metadata": {},
   "source": [
    "In order to run this file, download the file as (.py) then open it using this command on Anaconda Prompt:\n",
    "* streamlit run Movies_Recommender_App.py"
   ]
  },
  {
   "cell_type": "code",
   "execution_count": 1,
   "metadata": {},
   "outputs": [],
   "source": [
    "import pandas as pd\n",
    "import streamlit as st\n",
    "import csv\n",
    "import json, requests\n",
    "from collections import defaultdict\n",
    "from collections import Counter"
   ]
  },
  {
   "cell_type": "markdown",
   "metadata": {},
   "source": [
    "## API"
   ]
  },
  {
   "cell_type": "markdown",
   "metadata": {},
   "source": [
    "Using api, we will get the movie ID using its name. And get the movie names from the movie ID."
   ]
  },
  {
   "cell_type": "code",
   "execution_count": null,
   "metadata": {},
   "outputs": [],
   "source": [
    "def get_title(mov_id):\n",
    "    url = \"https://imdb-api.com/en/API/Title/k_4vhtmp5e/\" + mov_id\n",
    "    response = requests.get(url)\n",
    "    json_from_id = json.loads(response.text)\n",
    "    return json_from_id"
   ]
  },
  {
   "cell_type": "code",
   "execution_count": null,
   "metadata": {},
   "outputs": [],
   "source": [
    "def get_id(mov_title):\n",
    "    url = \"https://imdb-api.com/en/API/SearchTitle/k_4vhtmp5e/\" + mov_title\n",
    "    response = requests.get(url)\n",
    "    json_from_title = json.loads(response.text)\n",
    "    return json_from_title['results'][0]['id']"
   ]
  },
  {
   "cell_type": "markdown",
   "metadata": {},
   "source": [
    "## Recomender"
   ]
  },
  {
   "cell_type": "code",
   "execution_count": 4,
   "metadata": {
    "id": "naJY7c8l9PZB"
   },
   "outputs": [],
   "source": [
    "movie_user_map = defaultdict(list)\n",
    "user_movie_map = defaultdict(list)"
   ]
  },
  {
   "cell_type": "code",
   "execution_count": 5,
   "metadata": {
    "id": "BuvfnbBM9Qkf"
   },
   "outputs": [],
   "source": [
    "with open('df_reviews_web.csv', 'r', encoding=\"utf8\") as csvfile:\n",
    "    w = csv.reader(csvfile)\n",
    "    for row in w:\n",
    "        user_movie_map[row[1]].append(row[2])\n",
    "        movie_user_map[row[2]].append(row[1])"
   ]
  },
  {
   "cell_type": "code",
   "execution_count": 6,
   "metadata": {
    "id": "ckwrtbmf9XHB"
   },
   "outputs": [],
   "source": [
    "def get_similar_movie(user_movie_map,movie_user_map,m):\n",
    "    biglist = []\n",
    "    for u in user_movie_map[m]:                 # get all users that liked this movie\n",
    "        biglist.extend(movie_user_map[u])       # find all other movies those users liked and add to biglist\n",
    "    return Counter(biglist).most_common(4)[1:]  # use counter to 'count' the other movies that show up most common"
   ]
  },
  {
   "cell_type": "code",
   "execution_count": 7,
   "metadata": {
    "id": "1Nj3invR9Z7K"
   },
   "outputs": [],
   "source": [
    "def get_movie_recommendation(user_movie_map,movie_user_map,u1):\n",
    "    biglist = []\n",
    "    for m in movie_user_map[u1]:                # for the movies a specific user likes\n",
    "        for u in user_movie_map[m]:             # get other users who liked those movies\n",
    "            biglist.extend(movie_user_map[u1])  # find the other movies those \"similar folks\" most liked\n",
    "    return Counter(biglist).most_common(3)      # return tuples of (most common id, count)"
   ]
  },
  {
   "cell_type": "markdown",
   "metadata": {},
   "source": [
    "# HTML"
   ]
  },
  {
   "cell_type": "markdown",
   "metadata": {},
   "source": [
    "* There will be two approaches of our app\n",
    "* Get personal recommendations  ---> take (user ID) as input ---> use API to get mov_name\n",
    "* Get movies similar to a movie ---> take (movie name) as input ---> API to get movie id ---> use API to get mov_name"
   ]
  },
  {
   "cell_type": "code",
   "execution_count": 3,
   "metadata": {},
   "outputs": [],
   "source": [
    "df_reviews = pd.read_csv('df_reviews_web.csv', index_col=0)"
   ]
  },
  {
   "cell_type": "code",
   "execution_count": 21,
   "metadata": {},
   "outputs": [],
   "source": [
    "st.title(\"Movies Recommender \\n(Spoiler Free Reviews)\")\n",
    "st.markdown(\"This web app will take a movie and suggest three movies that are similar to it.\")\n",
    "st.header(\"Please choose one of the recommendation approaches\")\n",
    "option = st.selectbox('Select from here.',\n",
    "                      ('Get personal recommendations',\n",
    "                       'Get movies similar to a movie'))"
   ]
  },
  {
   "cell_type": "code",
   "execution_count": 1,
   "metadata": {},
   "outputs": [],
   "source": [
    "if option == 'Get personal recommendations':\n",
    "    st.text_input('Enter your user_id.', key=\"user_id\")\n",
    "    # We can access the value at any point with: st.session_state.user_id\n",
    "    similar_movies = get_movie_recommendation(user_movie_map,movie_user_map, st.session_state.user_id)\n",
    "    for i in range(3):\n",
    "        recommended_movie = similar_movies[i][0] # movies ids\n",
    "        json_from_id = get_title(recommended_movie)\n",
    "        st.header(f\"#{i+1}: \" + json_from_id['title'])\n",
    "        st.subheader('Some reviews about the movies')\n",
    "        st.caption(df_reviews[df_reviews.movie_id == recommended_movie]['review_text'].sample().values[0])\n",
    "        st.caption(df_reviews[df_reviews.movie_id == recommended_movie]['review_text'].sample().values[0])\n",
    "        st.image(json_from_id['image'], width=720)"
   ]
  },
  {
   "cell_type": "code",
   "execution_count": 2,
   "metadata": {},
   "outputs": [],
   "source": [
    "if option == 'Get movies similar to a movie':\n",
    "    st.text_input('Enter a movie name.', key=\"movie_name\")\n",
    "    # We can access the value at any point with: st.session_state.movie_name\n",
    "    movie_id = get_id(st.session_state.movie_name)\n",
    "    similar_movies = get_similar_movie(user_movie_map,movie_user_map, movie_id)\n",
    "    for i in range(3):\n",
    "        recommended_movie = similar_movies[i][0] # movies ids\n",
    "        json_from_id = get_title(recommended_movie)\n",
    "        st.header(f\"#{i+1}: \" + json_from_id['title'])\n",
    "        st.subheader('Some reviews about the movies')\n",
    "        st.caption(df_reviews[df_reviews.movie_id == recommended_movie]['review_text'].sample().values[0])\n",
    "        st.caption(df_reviews[df_reviews.movie_id == recommended_movie]['review_text'].sample().values[0])\n",
    "        st.image(json_from_id['image'], width=720)"
   ]
  }
 ],
 "metadata": {
  "kernelspec": {
   "display_name": "Python 3",
   "language": "python",
   "name": "python3"
  },
  "language_info": {
   "codemirror_mode": {
    "name": "ipython",
    "version": 3
   },
   "file_extension": ".py",
   "mimetype": "text/x-python",
   "name": "python",
   "nbconvert_exporter": "python",
   "pygments_lexer": "ipython3",
   "version": "3.8.3"
  }
 },
 "nbformat": 4,
 "nbformat_minor": 4
}
